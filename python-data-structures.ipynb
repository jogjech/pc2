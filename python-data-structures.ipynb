{
 "cells": [
  {
   "cell_type": "markdown",
   "source": "## Python Data Structures",
   "metadata": {
    "formattedRanges": [],
    "cell_id": "f6f269df1f654cc6bd1b6419bd499c40",
    "tags": [],
    "is_collapsed": false,
    "deepnote_app_coordinates": {
     "x": 0,
     "y": 55,
     "w": 12,
     "h": 5
    },
    "deepnote_cell_type": "text-cell-h2"
   }
  },
  {
   "cell_type": "markdown",
   "source": "### Set",
   "metadata": {
    "cell_id": "b09dd384a168461f9395c2d22d4170d4",
    "tags": [],
    "deepnote_app_coordinates": {
     "x": 0,
     "y": 25,
     "w": 12,
     "h": 5
    },
    "deepnote_cell_type": "markdown",
    "deepnote_cell_height": 62
   }
  },
  {
   "cell_type": "markdown",
   "source": "#### Initialize set\n\nIf we know the initial items, we can use:\n\n```python\ns = set()\n```\n\n\nOtherwise, we have to use:\n\n```python\ns = set()\n```\n\n`{}` means a dictionary instead of a set",
   "metadata": {
    "cell_id": "5e578efa64214f8884b3825263092ddf",
    "tags": [],
    "deepnote_app_coordinates": {
     "x": 0,
     "y": 13,
     "w": 12,
     "h": 5
    },
    "deepnote_cell_type": "markdown",
    "deepnote_cell_height": 245.984375
   }
  },
  {
   "cell_type": "code",
   "metadata": {
    "tags": [],
    "cell_id": "4a952932-bfe4-43f8-a957-df6358b13089",
    "deepnote_to_be_reexecuted": false,
    "source_hash": "d70539c6",
    "execution_start": 1657501714576,
    "execution_millis": 510,
    "allow_embed": "code_output",
    "deepnote_app_coordinates": {
     "x": 0,
     "y": 1,
     "w": 12,
     "h": 5
    },
    "deepnote_cell_type": "code",
    "deepnote_cell_height": 278.78125
   },
   "source": "# Dictionary\nprint(type({}))\nprint(type({1: 1}))\n\n# Set\nprint(type({1}))\nprint(type(set()))",
   "execution_count": 1,
   "outputs": [
    {
     "name": "stdout",
     "text": "<class 'dict'>\n<class 'dict'>\n<class 'set'>\n<class 'set'>\n",
     "output_type": "stream"
    }
   ]
  },
  {
   "cell_type": "markdown",
   "source": "### Heap / pq",
   "metadata": {
    "cell_id": "1aaee755c4754d5faf1cdec46e99d49b",
    "tags": [],
    "deepnote_app_coordinates": {
     "x": 0,
     "y": 19,
     "w": 12,
     "h": 5
    },
    "deepnote_cell_type": "markdown",
    "deepnote_cell_height": 62
   }
  },
  {
   "cell_type": "code",
   "metadata": {
    "cell_id": "0e0a900d987642219f95df53407a7259",
    "tags": [],
    "deepnote_to_be_reexecuted": false,
    "source_hash": "ab4f99a7",
    "execution_start": 1657501714577,
    "execution_millis": 509,
    "deepnote_app_coordinates": {
     "x": 0,
     "y": 7,
     "w": 12,
     "h": 5
    },
    "deepnote_cell_type": "code",
    "deepnote_cell_height": 318.171875
   },
   "source": "import heapq\n\nl = [1, 4, 3, 2, 35, 1]\nheapq.heapify(l)\nwhile len(l) > 0:\n    print(heapq.heappop(l))\n",
   "execution_count": 2,
   "outputs": [
    {
     "name": "stdout",
     "text": "1\n1\n2\n3\n4\n35\n",
     "output_type": "stream"
    }
   ]
  },
  {
   "cell_type": "markdown",
   "source": "### Stack\n\nStack in Python can be implemented using the following ways: \n\n* list\n* Collections.deque\n* queue.LifoQueue (not common)",
   "metadata": {
    "cell_id": "25ab942418034fc09e9199103a60d166",
    "tags": [],
    "deepnote_app_coordinates": {
     "x": 0,
     "y": 31,
     "w": 12,
     "h": 5
    },
    "deepnote_cell_type": "markdown",
    "deepnote_cell_height": 201.59375
   }
  },
  {
   "cell_type": "markdown",
   "source": "#### Implement stack using list\n\nPython’s built-in data structure list can be used as a stack. Instead of push(), append() is used to add elements to the top of the stack while pop() removes the element in LIFO order. \nUnfortunately, the list has a few shortcomings. The biggest issue is that it can run into speed issues as it grows. The items in the list are stored next to each other in memory, if the stack grows bigger than the block of memory that currently holds it, then Python needs to do some memory allocations. This can lead to some append() calls taking much longer than other ones.",
   "metadata": {
    "cell_id": "5eb7ae00c7f74388a865c376c3b3b0b5",
    "tags": [],
    "deepnote_app_coordinates": {
     "x": 0,
     "y": 61,
     "w": 12,
     "h": 5
    },
    "deepnote_cell_type": "markdown",
    "deepnote_cell_height": 177.984375
   }
  },
  {
   "cell_type": "code",
   "metadata": {
    "cell_id": "cba768b760ff4aa7ad5bdd8cc598ef50",
    "tags": [],
    "deepnote_to_be_reexecuted": false,
    "source_hash": "bdfe5046",
    "execution_start": 1657501714578,
    "execution_millis": 511,
    "deepnote_app_coordinates": {
     "x": 0,
     "y": 37,
     "w": 12,
     "h": 5
    },
    "deepnote_cell_type": "code",
    "deepnote_cell_height": 630.953125
   },
   "source": "stack = []\n  \n# append() function to push element in the stack\nstack.append('a')\nstack.append('b')\nstack.append('c')\n  \nprint('Initial stack')\nprint(stack)\n  \n# pop() function to pop element from stack in LIFO order\nprint('\\nElements popped from stack:')\nprint(stack.pop())\nprint(stack.pop())\nprint(stack.pop())\n  \nprint('\\nStack after elements are popped:')\nprint(stack)\n  \n# uncommenting print(stack.pop()) will cause an IndexError as the stack is now empty",
   "execution_count": 3,
   "outputs": [
    {
     "name": "stdout",
     "text": "Initial stack\n['a', 'b', 'c']\n\nElements popped from stack:\nc\nb\na\n\nStack after elements are popped:\n[]\n",
     "output_type": "stream"
    }
   ]
  },
  {
   "cell_type": "markdown",
   "source": "#### Implementation stack using collections.deque\n\nPython stack can be implemented using the deque class from the collections module. Deque is preferred over the list in the cases where we need quicker append and pop operations from both the ends of the container, as deque provides an O(1) time complexity for append and pop operations as compared to list which provides O(n) time complexity. \n\n\n",
   "metadata": {
    "cell_id": "6b2c376037e0412387e21844c77c9322",
    "tags": [],
    "deepnote_app_coordinates": {
     "x": 0,
     "y": 67,
     "w": 12,
     "h": 5
    },
    "deepnote_cell_type": "markdown",
    "deepnote_cell_height": 133.1875
   }
  },
  {
   "cell_type": "code",
   "metadata": {
    "cell_id": "b4a47e0a80b34df386939af3afd54272",
    "tags": [],
    "deepnote_to_be_reexecuted": false,
    "source_hash": "7c03f775",
    "execution_start": 1657501714627,
    "execution_millis": 470,
    "deepnote_app_coordinates": {
     "x": 0,
     "y": 73,
     "w": 12,
     "h": 5
    },
    "deepnote_cell_type": "code",
    "deepnote_cell_height": 666.953125
   },
   "source": "from collections import deque\n  \nstack = deque()\n  \n# append() function to push element in the stack\nstack.append('a')\nstack.append('b')\nstack.append('c')\n  \nprint('Initial stack:')\nprint(stack)\n  \n# pop() function to pop element from stack in LIFO order\nprint('\\nElements popped from stack:')\nprint(stack.pop())\nprint(stack.pop())\nprint(stack.pop())\n  \nprint('\\nStack after elements are popped:')\nprint(stack)\n  \n# uncommenting print(stack.pop()) will cause an IndexError as the stack is now empty",
   "execution_count": 4,
   "outputs": [
    {
     "name": "stdout",
     "text": "Initial stack:\ndeque(['a', 'b', 'c'])\n\nElements popped from stack:\nc\nb\na\n\nStack after elements are popped:\ndeque([])\n",
     "output_type": "stream"
    }
   ]
  },
  {
   "cell_type": "markdown",
   "source": "#### Implementation stack using queue module\n\nhttps://www.geeksforgeeks.org/stack-in-python/\n",
   "metadata": {
    "cell_id": "3b12c3d5f380479a949ac4bd42fd572a",
    "tags": [],
    "deepnote_app_coordinates": {
     "x": 0,
     "y": 79,
     "w": 12,
     "h": 5
    },
    "deepnote_cell_type": "markdown",
    "deepnote_cell_height": 88.390625
   }
  },
  {
   "cell_type": "markdown",
   "source": "### Queue\n\nThere are various ways to implement a queue in Python. This article covers the implementation of queue using data structures and modules from Python library.\nQueue in Python can be implemented by the following ways:\n \n\n* list - O(n) for inserting / deleting at the beginning\n* collections.deque\n* queue.Queue - need to define max size",
   "metadata": {
    "cell_id": "5957b798fdba4c208db5aee06aa3358c",
    "tags": [],
    "deepnote_app_coordinates": {
     "x": 0,
     "y": 43,
     "w": 12,
     "h": 5
    },
    "deepnote_cell_type": "markdown",
    "deepnote_cell_height": 223.984375
   }
  },
  {
   "cell_type": "markdown",
   "source": "#### Implementation stack using collections.deque\n",
   "metadata": {
    "cell_id": "b0c0b8b8f677448080249a597ee46f42",
    "tags": [],
    "deepnote_app_coordinates": {
     "x": 0,
     "y": 85,
     "w": 12,
     "h": 5
    },
    "deepnote_cell_type": "markdown",
    "deepnote_cell_height": 54
   }
  },
  {
   "cell_type": "code",
   "metadata": {
    "cell_id": "f33d244bcd974a25a17bac42226568ab",
    "tags": [],
    "deepnote_to_be_reexecuted": false,
    "source_hash": "2fc2aabc",
    "execution_start": 1657501714628,
    "execution_millis": 469,
    "deepnote_app_coordinates": {
     "x": 0,
     "y": 49,
     "w": 12,
     "h": 5
    },
    "deepnote_cell_type": "code",
    "deepnote_cell_height": 684.953125
   },
   "source": "from collections import deque\n  \n# Initializing a queue\nq = deque()\n  \n# Adding elements to a queue\nq.append('a')\nq.append('b')\nq.append('c')\n  \nprint(\"Initial queue\")\nprint(q)\n  \n# Removing elements from a queue\nprint(\"\\nElements dequeued from the queue\")\nprint(q.popleft())\nprint(q.popleft())\nprint(q.popleft())\n  \nprint(\"\\nQueue after removing elements\")\nprint(q)\n  \n# Uncommenting q.popleft() will raise an IndexError as queue is now empty",
   "execution_count": 5,
   "outputs": [
    {
     "name": "stdout",
     "text": "Initial queue\ndeque(['a', 'b', 'c'])\n\nElements dequeued from the queue\na\nb\nc\n\nQueue after removing elements\ndeque([])\n",
     "output_type": "stream"
    }
   ]
  },
  {
   "cell_type": "markdown",
   "source": "<a style='text-decoration:none;line-height:16px;display:flex;color:#5B5B62;padding:10px;justify-content:end;' href='https://deepnote.com?utm_source=created-in-deepnote-cell&projectId=d45bdc67-acaf-4e7f-8a21-eee095aae9d2' target=\"_blank\">\n<img alt='Created in deepnote.com' style='display:inline;max-height:16px;margin:0px;margin-right:7.5px;' src='data:image/svg+xml;base64,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' > </img>\nCreated in <span style='font-weight:600;margin-left:4px;'>Deepnote</span></a>",
   "metadata": {
    "tags": [],
    "created_in_deepnote_cell": true,
    "deepnote_cell_type": "markdown"
   }
  }
 ],
 "nbformat": 4,
 "nbformat_minor": 2,
 "metadata": {
  "orig_nbformat": 2,
  "deepnote": {},
  "deepnote_notebook_id": "064a6da3-14c4-41f1-8ac4-ee4ec148ea6e",
  "deepnote_app_layout": "article",
  "deepnote_execution_queue": []
 }
}